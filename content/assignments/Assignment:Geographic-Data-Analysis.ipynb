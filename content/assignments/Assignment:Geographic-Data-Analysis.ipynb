{
 "cells": [
  {
   "cell_type": "markdown",
   "metadata": {},
   "source": [
    "# Geographic Data Analysis: Analysis of US Census Data\n",
    "\n",
    "\n",
    "In this assignment, the goal is to compare between 1920 and 2020 US Census Data\n",
    "\n",
    "**Step 1** :  Download data from the 1920 and the 2020 United States Census.\n",
    "\n",
    "**Step 2** :  Load each into pandas data frame.\n",
    "\n",
    "**Step 3** :  Draw choropleth maps for each year to show the percent change in resident population over the years and state your inferences.\n",
    "\n",
    "\n",
    "**Step 4** :  Draw a combined scatter plot for the year 1920 and 2020 to compare the population density rank and the number of reprenstatives for each state. What states are best and worst-off in terms of people per representative? State your observations.Compare with the choropleth maps to show if any change in resident population has brought change in the number of represenatives.\n",
    "\n",
    "\n",
    "**Step 5** :  Draw a grouped bar chart for each state to show Average Apportionment Population Per Representative in 1920 and 2020. State your inferences and any trends that you can see that emerge over these hundred years\n",
    "\n",
    "**Step 6** :  Apart from the three plots drawn above, depict one or more columns and write about what you notice about the columns used in each, and any trends you see that diverge over these hundred years.\n",
    "\n",
    "**Step 7** :  In 200 words or less, descrive overall the representation inequality and population information drawn from the above data and plots.\n"
   ]
  }
 ],
 "metadata": {
  "interpreter": {
   "hash": "40d3a090f54c6569ab1632332b64b2c03c39dcf918b08424e98f38b5ae0af88f"
  },
  "kernelspec": {
   "display_name": "Python 3.8.8 64-bit ('base': conda)",
   "language": "python",
   "name": "python3"
  },
  "language_info": {
   "name": "python",
   "version": "3.8.8"
  },
  "orig_nbformat": 4
 },
 "nbformat": 4,
 "nbformat_minor": 2
}
