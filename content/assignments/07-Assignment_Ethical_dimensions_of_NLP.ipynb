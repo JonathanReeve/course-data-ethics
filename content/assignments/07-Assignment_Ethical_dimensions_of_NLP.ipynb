{
 "cells": [
  {
   "cell_type": "markdown",
   "id": "8d1b6c37",
   "metadata": {},
   "source": [
    "# Ethical dimensions of NLP"
   ]
  },
  {
   "cell_type": "markdown",
   "id": "c334c180",
   "metadata": {},
   "source": [
    "**Step 1** :  Using TensorFlow Projector, find a neighborhood of words with one or two unexpected entries.\n",
    "\n",
    "Link to tensorflow projector : https://projector.tensorflow.org/"
   ]
  },
  {
   "cell_type": "markdown",
   "id": "01321adb",
   "metadata": {},
   "source": [
    "**Step 2** :  In 500 words, discuss: where morphological ambiguity (homographs) shows itself most clearly. How would this become a problem for NLP programs that use these embeddings?"
   ]
  }
 ],
 "metadata": {
  "kernelspec": {
   "display_name": "Python 3",
   "language": "python",
   "name": "python3"
  },
  "language_info": {
   "codemirror_mode": {
    "name": "ipython",
    "version": 3
   },
   "file_extension": ".py",
   "mimetype": "text/x-python",
   "name": "python",
   "nbconvert_exporter": "python",
   "pygments_lexer": "ipython3",
   "version": "3.8.8"
  }
 },
 "nbformat": 4,
 "nbformat_minor": 5
}
