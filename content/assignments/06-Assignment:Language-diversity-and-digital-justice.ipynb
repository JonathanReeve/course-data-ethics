{
 "cells": [
  {
   "cell_type": "markdown",
   "metadata": {},
   "source": [
    "# Language Use Data Analysis"
   ]
  },
  {
   "cell_type": "markdown",
   "metadata": {},
   "source": [
    "In this assignment, we will analyse data from twitter and discover popular languages used for tweets."
   ]
  },
  {
   "cell_type": "markdown",
   "metadata": {},
   "source": [
    "Task: Choose five words whose tweets we will analyse. For example: politics, pandemic, lifestyle, movies, justice etc.\n",
    "We will perform analysis and run experiments on different queries based on the above chosen five words and show the\n",
    "interesting results. "
   ]
  },
  {
   "cell_type": "markdown",
   "metadata": {},
   "source": [
    "**Step 1** :  Sign up for a developer account on twitter and generate the keys to retrieve data from twitter api. We will be using Twitter API v2 endpoints to have fast and free access to the API. \n",
    "\n",
    "Link for refrence: https://developer.twitter.com/en/docs/twitter-api/getting-started/getting-access-to-the-twitter-api"
   ]
  },
  {
   "cell_type": "markdown",
   "metadata": {},
   "source": [
    "**Step 2** : Write a function *connect_to_endpoint()* which will return the tweets for the specified query word passed to it using the Twitter API. Iteratively perform for each query word and collect atleast 1000 tweets for each and store the data into five Pandas DataFrame. \n",
    "\n",
    "Link for refrence: https://developer.twitter.com/en/docs/twitter-api/tweets/search/introduction"
   ]
  },
  {
   "cell_type": "markdown",
   "metadata": {},
   "source": [
    "**Step 3** : Use .describe() to discover large-scale patterns in these tweets."
   ]
  },
  {
   "cell_type": "markdown",
   "metadata": {},
   "source": [
    "**Step 4** :  Create at least one plot, using .plot() or equivalent for each query word and display the top five languages used to tweet"
   ]
  },
  {
   "cell_type": "markdown",
   "metadata": {},
   "source": [
    "**Step 5** :In 500 words, write about any trends you discover. From the above plots, infer the top three languages across all the tweets from the five query words. You might want to also discuss: (a) the most common operating systems used by speakers of these tweets. (b)the geographic locations, if available, of these Twitter users. (c) popular tweets based on retweet count, view_count, likes,etc"
   ]
  }
 ],
 "metadata": {
  "interpreter": {
   "hash": "aee8b7b246df8f9039afb4144a1f6fd8d2ca17a180786b69acc140d282b71a49"
  },
  "kernelspec": {
   "display_name": "Python 3.9.7 64-bit",
   "language": "python",
   "name": "python3"
  },
  "language_info": {
   "codemirror_mode": {
    "name": "ipython",
    "version": 3
   },
   "file_extension": ".py",
   "mimetype": "text/x-python",
   "name": "python",
   "nbconvert_exporter": "python",
   "pygments_lexer": "ipython3",
   "version": "3.9.7"
  },
  "orig_nbformat": 4
 },
 "nbformat": 4,
 "nbformat_minor": 2
}
