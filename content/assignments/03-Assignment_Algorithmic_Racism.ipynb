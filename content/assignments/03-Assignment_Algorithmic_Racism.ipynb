{
 "cells": [
  {
   "cell_type": "markdown",
   "id": "8d1b6c37",
   "metadata": {},
   "source": [
    "# Algorithmic racism\n"
   ]
  },
  {
   "cell_type": "markdown",
   "id": "18ccb456",
   "metadata": {},
   "source": [
    "In this assignment, we design a housing algorithm to determine who gets assigned student housing."
   ]
  },
  {
   "cell_type": "markdown",
   "id": "43555397",
   "metadata": {},
   "source": [
    "The csv file is uploaded in the folder.\n",
    "\n",
    "Task: In this dataset, we have mainly three columns: Gender, Race/Ethnicity and test preparation course.\n",
    "\n",
    "You have to design an algorithm based on the three features mentioned above. Its your own choice to decide the conditions on which a student gets housing allocation. \n",
    "\n",
    "Also explain the reasoning behind developing your conditions in which students gets a housing.\n",
    "\n",
    "Hints: Use switch case to represent multiple cases (various combinations of the values from the three columns) and allocate housing.\n",
    "\n",
    "\n"
   ]
  }
 ],
 "metadata": {
  "kernelspec": {
   "display_name": "Python 3",
   "language": "python",
   "name": "python3"
  },
  "language_info": {
   "codemirror_mode": {
    "name": "ipython",
    "version": 3
   },
   "file_extension": ".py",
   "mimetype": "text/x-python",
   "name": "python",
   "nbconvert_exporter": "python",
   "pygments_lexer": "ipython3",
   "version": "3.8.8"
  }
 },
 "nbformat": 4,
 "nbformat_minor": 5
}
