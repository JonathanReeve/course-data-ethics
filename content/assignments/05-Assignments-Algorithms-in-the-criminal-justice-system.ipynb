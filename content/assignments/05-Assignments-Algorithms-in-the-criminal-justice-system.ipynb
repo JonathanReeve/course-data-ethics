{
 "cells": [
  {
   "cell_type": "markdown",
   "metadata": {},
   "source": [
    "# Algorithms in the criminal justice system"
   ]
  },
  {
   "cell_type": "markdown",
   "metadata": {},
   "source": [
    "**Step 1**: Load the ProPublica Compas data into a Pandas DataFrame object.\n",
    "\n",
    "Link : https://github.com/propublica/compas-analysis/blob/master/compas-scores.csv"
   ]
  },
  {
   "cell_type": "markdown",
   "metadata": {},
   "source": [
    "**Step 2**: Run .describe() on the DataFrame. And explain briefly your observations"
   ]
  },
  {
   "cell_type": "markdown",
   "metadata": {},
   "source": [
    "**Step 3:** Run .describe() on several individual columns. And explain briefly your observations"
   ]
  },
  {
   "cell_type": "markdown",
   "metadata": {},
   "source": [
    "**Step 4** : Create 2-3 plots of the data in individual columns.\n",
    "\n",
    "Hints : (a) Boxplot for column with numerical values. (b) Bar plots showing the difference between Black Defendant's Violent Decile Scores and White Defendant's Violent Decile Scores. (c) Faceted Graph using seaborn package using three or more columns (for instance : race, age category, decile score and sex)."
   ]
  },
  {
   "cell_type": "markdown",
   "metadata": {},
   "source": [
    "**Step 5**: In 800 words, write about what you notice about these trends. Which columns are categorical data, and which are quantitative? You might want to address anything you notice about the choice of columns, or categories (of age and race)"
   ]
  },
  {
   "cell_type": "markdown",
   "metadata": {},
   "source": []
  }
 ],
 "metadata": {
  "language_info": {
   "name": "python"
  },
  "orig_nbformat": 4
 },
 "nbformat": 4,
 "nbformat_minor": 2
}
