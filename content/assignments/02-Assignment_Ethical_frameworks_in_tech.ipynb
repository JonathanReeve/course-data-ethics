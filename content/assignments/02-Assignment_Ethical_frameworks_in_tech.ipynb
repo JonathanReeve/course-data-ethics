{
 "cells": [
  {
   "cell_type": "markdown",
   "id": "8d1b6c37",
   "metadata": {},
   "source": [
    "# Ethical frameworks in tech"
   ]
  },
  {
   "cell_type": "markdown",
   "id": "c334c180",
   "metadata": {},
   "source": [
    "**Step 1** :  Complete all 13 judgments of The Moral Machine website. When asked, “Would you like to help us better understand your judgement,” press yes and read through the questions.\n",
    "\n",
    "Link : https://www.moralmachine.net/"
   ]
  },
  {
   "cell_type": "markdown",
   "id": "01321adb",
   "metadata": {},
   "source": [
    "**Step 2** : In 500 words, reflect on one or more choices you made in The Moral Machine, and why you made those choices."
   ]
  },
  {
   "cell_type": "markdown",
   "id": "642b51cb",
   "metadata": {},
   "source": [
    "**Step 3** : Use the Imagine PhD tool to rank your ethical values.\n",
    "\n",
    "Link: https://www.imaginephd.com/"
   ]
  },
  {
   "cell_type": "markdown",
   "id": "bfb6db0c",
   "metadata": {},
   "source": [
    "**Step 4** : In 500 words, write a reflection on your ethical framework and how you see it reflected (or not) within data-driven digital systems."
   ]
  }
 ],
 "metadata": {
  "kernelspec": {
   "display_name": "Python 3",
   "language": "python",
   "name": "python3"
  },
  "language_info": {
   "codemirror_mode": {
    "name": "ipython",
    "version": 3
   },
   "file_extension": ".py",
   "mimetype": "text/x-python",
   "name": "python",
   "nbconvert_exporter": "python",
   "pygments_lexer": "ipython3",
   "version": "3.8.8"
  }
 },
 "nbformat": 4,
 "nbformat_minor": 5
}
